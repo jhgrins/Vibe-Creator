{
 "cells": [
  {
   "cell_type": "markdown",
   "metadata": {},
   "source": [
    "# Abel & Josette's AI Term Project\n",
    "This is our workspace for collaborative filtering and content based music generation.\n",
    "For spotify API, reference this page for [setup](https://medium.com/@benfenison/using-spotify-web-api-w-python-6b31a328b26e) and this page for [documentation](https://github.com/plamere/spotipy)."
   ]
  },
  {
   "cell_type": "code",
   "execution_count": 15,
   "metadata": {},
   "outputs": [],
   "source": [
    "import sys\n",
    "import spotipy\n",
    "import spotipy.util as util\n",
    "\n",
    "scope = 'user-library-read'\n",
    "\n",
    "if len(sys.argv) > 1:\n",
    "    username = sys.argv[1]\n",
    "else:\n",
    "    print(\"Usage: %s username\" % (sys.argv[0],))\n",
    "    sys.exit()\n",
    "\n",
    "token = util.prompt_for_user_token(username,scope,client_id='33ebd71536d94caebcf54970eaf4191a',\n",
    "                                  client_secret='87c219c0663d414388f96a6b7da7ee11', redirect_uri='http://localhost/')"
   ]
  },
  {
   "cell_type": "code",
   "execution_count": 16,
   "metadata": {},
   "outputs": [],
   "source": [
    "sp_us = spotipy.Spotify(auth=token)"
   ]
  },
  {
   "cell_type": "code",
   "execution_count": 19,
   "metadata": {},
   "outputs": [
    {
     "name": "stdout",
     "output_type": "stream",
     "text": [
      "  0 Say It Ain't So\n",
      "  1 Island In The Sun\n",
      "  2 Buddy Holly\n",
      "  3 Beverly Hills\n",
      "  4 Africa\n",
      "  5 Undone - The Sweater Song\n",
      "  6 The End of the Game\n",
      "  7 Hash Pipe\n",
      "  8 My Name Is Jonas\n",
      "  9 Feels Like Summer\n",
      "  10 Pork And Beans\n",
      "  11 Take On Me\n",
      "  12 El Scorcho\n",
      "  13 Everybody Wants To Rule The World\n",
      "  14 Perfect Situation\n",
      "  15 Only In Dreams\n",
      "  16 Mr. Blue Sky\n",
      "  17 The World Has Turned And Left Me Here\n",
      "  18 In The Garage\n",
      "  19 Can't Knock The Hustle\n"
     ]
    }
   ],
   "source": [
    "results = sp_us.search(q='weezer', limit=20)\n",
    "for i, t in enumerate(results['tracks']['items']):\n",
    "    print (' ', i, t['name'])"
   ]
  },
  {
   "cell_type": "code",
   "execution_count": 32,
   "metadata": {},
   "outputs": [
    {
     "name": "stdout",
     "output_type": "stream",
     "text": [
      "Please enter an Artist: Rihanna\n",
      "FourFiveSeconds - Rihanna\n",
      "Broken & Beautiful (from the movie UGLYDOLLS) - Kelly Clarkson\n",
      "oui - Jeremih\n",
      "Unholy - Miley Cyrus\n",
      "Don't Check On Me (feat. Justin Bieber & Ink) - Chris Brown\n",
      "Feels - Kehlani\n",
      "American Oxygen - Rihanna\n",
      "CAN'T STOP THE FEELING! (Original Song from DreamWorks Animation's \"TROLLS\") - Justin Timberlake\n",
      "Sorry Not Sorry - Demi Lovato\n",
      "Wild Ones (feat. Sia) - Flo Rida\n",
      "Fallin' - Alicia Keys\n",
      "Diamonds - Rihanna\n",
      "Sally Walker - Iggy Azalea\n",
      "Whatcha Say - Jason Derulo\n",
      "Don't Cha - The Pussycat Dolls\n",
      "Love On The Brain - Rihanna\n",
      "Bed (feat. Ariana Grande) - Nicki Minaj\n",
      "Apologize - Timbaland\n",
      "I Kissed A Girl - Katy Perry\n",
      "Power is Power (feat. The Weeknd & Travis Scott) - SZA\n"
     ]
    }
   ],
   "source": [
    "\n",
    "''' shows recommendations for the given artist\n",
    "'''\n",
    "\n",
    "from spotipy.oauth2 import SpotifyClientCredentials\n",
    "#client_credentials_manager = SpotifyClientCredentials()\n",
    "#sp = spotipy.Spotify(client_credentials_manager=client_credentials_manager)\n",
    "sp = spotipy.Spotify(auth=token)\n",
    "sp.trace=False\n",
    "\n",
    "def get_artist(name):\n",
    "    results = sp.search(q='artist:' + name, type='artist')\n",
    "    items = results['artists']['items']\n",
    "    if len(items) > 0:\n",
    "        return items[0]\n",
    "    else:\n",
    "        return None\n",
    "\n",
    "def show_recommendations_for_artist(artist):\n",
    "    albums = []\n",
    "    results = sp.recommendations(seed_artists = [artist['id']])\n",
    "    #print(results)\n",
    "    for track in results['tracks']:\n",
    "        #print(\"what\")\n",
    "        print(track['name'], '-', track['artists'][0]['name'])\n",
    "\n",
    "if __name__ == '__main__':\n",
    "    musicer = input(\"Please enter an Artist: \")\n",
    "    if len(musicer) <= 0:\n",
    "        print(('Usage: {0} artist name'.format(sys.argv[0])))\n",
    "    else:\n",
    "        #name = ' '.join(musicer)\n",
    "        name = musicer\n",
    "        #print(name)\n",
    "        artist = get_artist(name)\n",
    "        #print(artist)\n",
    "        if artist:\n",
    "            show_recommendations_for_artist(artist)\n",
    "        else:\n",
    "            print(\"Can't find that artist\", name)"
   ]
  },
  {
   "cell_type": "code",
   "execution_count": null,
   "metadata": {},
   "outputs": [],
   "source": []
  }
 ],
 "metadata": {
  "kernelspec": {
   "display_name": "Python 3",
   "language": "python",
   "name": "python3"
  },
  "language_info": {
   "codemirror_mode": {
    "name": "ipython",
    "version": 3
   },
   "file_extension": ".py",
   "mimetype": "text/x-python",
   "name": "python",
   "nbconvert_exporter": "python",
   "pygments_lexer": "ipython3",
   "version": "3.7.3"
  }
 },
 "nbformat": 4,
 "nbformat_minor": 2
}
