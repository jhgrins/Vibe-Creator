{
 "cells": [
  {
   "attachments": {
    "image.png": {
     "image/png": "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"
    }
   },
   "cell_type": "markdown",
   "metadata": {},
   "source": [
    "# Abel & Josette's AI Term Project\n",
    "This is our workspace for collaborative filtering and content based music generation.\n",
    "For spotify API, reference this page for [setup](https://medium.com/@benfenison/using-spotify-web-api-w-python-6b31a328b26e) and this page for [documentation](https://github.com/plamere/spotipy). Data for the content base filtering was collected [here](https://grinslade.pythonanywhere.com).\n",
    "\n",
    "## The Problem\n",
    "Our project was focused on the pratical everyday issue that music listeners struggle to find new songs that they would *actually* listen to. There are many manys to solve this problem, but the most common way that is used in this industry is collaborative filtering. Collaboraive filtering has been done by Spotify, Netflix and many others for recommendations to their users. Collaborative filtering is an algorithm that dictates what users are similar and then suggest content that the similar users enjoy. Another method commonly used in pratice is Content-based filtering. This algorithm simply decides if a user's liked content is similar to other content based off its metadata or attributes then suggests this content. \n",
    "\n",
    "## Our Approach\n",
    "Our approach to this problem similar but with our own implementation. More specifically, we would create two ways of generating suggested songs: Content-based filtering and Collaborative filtering. We would implement these algorithms in our own way and compare it to established generations like Spotify's. We decided we would look at user data to generate 5 songs that the listener would truly enjoy.\n",
    "\n",
    "## Results\n",
    "\n",
    "PARTICIPANT # 1\n",
    "\n",
    "| Songs |User's Top Tracks|Spotify Generation|Spotify - Would add?|Content-based Generation|Content-based - Would add?|\n",
    "|-------|-----------------|------------------|--------------------|------------------------|--------------------------|\n",
    "| #1| Every Single Thing - HOMESHAKE| Them Changes - Thundercat | yes| Audio (feat. Sia, Diplo, and Labrinth) - Sia | yes |\n",
    "| #2| Look What You Made Me Do - Taylor Swift | Sticky - Ravyn Lenae| yes| Freaking Out - A R I Z O N A | yes |\n",
    "| #3| thank u, next - Ariana Grande| Cariño - The Marías | yes | Strings - iann dior | yes |\n",
    "| #4| How Long - Charlie Puth | Holy Toledo - Vundabar| no| Peer Pressure - James Bay | no|\n",
    "| #5| God is a woman - Ariana Grande| Darling - Real Estate | no | 100 Letters - Halsey | no |\n",
    "|   |                               |                       | 3/5 |    | 3/5                        |\n",
    "\n",
    "PARTICIPANT # 2\n",
    "\n",
    "| Songs |User's Top Tracks|Spotify Generation|Spotify - Would add?|Content-based Generation|Content-based - Would add?|\n",
    "|-------|-----------------|------------------|--------------------|------------------------|--------------------------|\n",
    "| #1| MIDDLE CHILD - J. Cole| Gold Roses (feat. Drake) - Rick Ross | yes| I Got It - Manus | yes |\n",
    "| #2| Blessings - Big Sean | Paramedic! - SOB X RBE| yes| Calma - Alan Walker Remix - Pedro Capó | no |\n",
    "| #3| Isis - Joyner Lucas| Last Time That I Checc'd (feat. YG) - Nipsey Hussle | no | Wake Up - Iamjakehill | yes |\n",
    "| #4| Under The Sun (with J. Cole & Lute feat. DaBaby) - Dreamville | REEL IT IN - Aminé| yes| Ladders - Mac Miller | no|\n",
    "| #5| Planez - Jeremih| GOKU - Jaden | no | Just Friends - Virginia To Vegas | yes |\n",
    "|   |                               |                       | 3/5 |    | 2/5                        |\n",
    "\n",
    "\n",
    "PARTICIPANT # 3\n",
    "\n",
    "| Songs |User's Top Tracks|Spotify Generation|Spotify - Would add?|Content-based Generation|Content-based - Would add?|\n",
    "|-------|-----------------|------------------|--------------------|------------------------|--------------------------|\n",
    "| #1| Every Single Thing - HOMESHAKE| Ugotme - Omar Apollo | no| Stronger Than You - Steven Universe | no |\n",
    "| #2| Never Would Have Made It - Teyana Taylor| Cool with You - Her's| no| Mean It - Lauv | yes |\n",
    "| #3| Habit - Blood Cultures Remix - Cool Company| CHANCES - KAYTRANADA | yes | Bambi - Hippo Campus | no |\n",
    "| #4| Paranoid (feat. B.o.B) - Ty Dolla $ign | Hard To Say Goodbye - Washed Out| yes| All Love - FLETCHER | no|\n",
    "| #5| Issues/Hold On - Teyana Taylor| Shalala - Moses Gunn Collective | no | Stacy - Quinn XCII | no |\n",
    "|   |                               |                       | 2/5 |    | 1/5                        |\n",
    "\n",
    "PARTICIPANT # 4\n",
    "\n",
    "| Songs |User's Top Tracks|Spotify Generation|Spotify - Would add?|Content-based Generation|Content-based - Would add?|\n",
    "|-------|-----------------|------------------|--------------------|------------------------|--------------------------|\n",
    "| #1| All Love - FLETCHER| Another Summer Night Without You - Alexander 23 | no| Hurt Feelings - Mac Miller | no |\n",
    "| #2| Just Friends - Virginia to Vegas| whywhywhy - MisterWives| no| Stronger Than You - Steven Universe | no |\n",
    "| #3| Diamond Days - Elephante| Wasted - MKTO| no | Strings - iann dior | no |\n",
    "| #4| Undrunk - FLETCHER | Champion - Elina| no | Calma - Alan Walker Remix - Pedro Capó | no|\n",
    "| #5| You've Changed (feat. Angeline) - Vaance| Outnumbered - Dermot Kennedy | no | Stacy - Quinn XCII | yes |\n",
    "|   |                               |                       | 0/5 |    | 1/5                        |\n",
    "\n",
    "![alt text](https://github.com/jhgrins/music_generation_ai/blob/master/chart.png "Participant Graph")\n",
    "\n",
    "To compare and evaluate our implementation of content-based filtering, we compared the results to a spotipy implementation. Spotify's suggestions are based off a single seed in this case, another song. \n",
    "\n",
    "The content-based filtering we implemented took the current user's top 20 songs and calculated the averages of each attribute. If a song from the database's attribute  fell within the standard deviation of the user's songs then one point would be awarded, out of a eleven. Finally, after normalizing the data, the top 5 songs with the most points would be suggested the user. Spotify's suggestion algorithm is not made public. For the purpose of these experiments, we used spotify's API to generate five suggested songs given the user's top song.\n",
    "\n",
    "For each participant, we generated two suggestion lists with each content-based algorithm. We then had the participants listen to each of the songs suggested and decide if each song was a song the liked. The data we collected did not have a well define trend but from what we \n",
    "\n",
    "## If we had more time\n",
    "\n",
    "If we had more time for this project, we would have perfected our algorithms and get access from spotify to use a bigger data set instead of ."
   ]
  },
  {
   "cell_type": "code",
   "execution_count": 13,
   "metadata": {},
   "outputs": [
    {
     "name": "stdout",
     "output_type": "stream",
     "text": [
      "Enter username or none: none\n"
     ]
    }
   ],
   "source": [
    "import sys\n",
    "import spotipy\n",
    "import spotipy.util as util\n",
    "\n",
    "sc = 'user-top-read'\n",
    "\n",
    "username = input(\"Enter username or none: \")\n",
    "results = {}\n",
    "if username == \"none\":\n",
    "    username = \"jojogrin\"\n",
    "token = util.prompt_for_user_token(username=username,scope=sc,client_id='33ebd71536d94caebcf54970eaf4191a', client_secret='87c219c0663d414388f96a6b7da7ee11', redirect_uri='https://grinslade.pythonanywhere.com/api_callback')\n",
    "results = sp.current_user_top_tracks()"
   ]
  },
  {
   "cell_type": "code",
   "execution_count": 14,
   "metadata": {},
   "outputs": [],
   "source": [
    "sp = spotipy.Spotify(auth=token)"
   ]
  },
  {
   "cell_type": "markdown",
   "metadata": {},
   "source": [
    "# User's Top Tracks"
   ]
  },
  {
   "cell_type": "code",
   "execution_count": 15,
   "metadata": {},
   "outputs": [
    {
     "name": "stdout",
     "output_type": "stream",
     "text": [
      "jojogrin's Top 20 songs\n",
      "----------------------------------\n",
      "1. Every Single Thing - HOMESHAKE\n",
      "2. Look What You Made Me Do - Taylor Swift\n",
      "3. thank u, next - Ariana Grande\n",
      "4. How Long - Charlie Puth\n",
      "5. God is a woman - Ariana Grande\n",
      "6. Bonkers - Dizzee Rascal\n",
      "7. Confident - Demi Lovato\n",
      "8. Truth Hurts - Lizzo\n",
      "9. 7 rings - Ariana Grande\n",
      "10. Can't Fight The Moonlight - LeAnn Rimes\n",
      "11. J'veux sortir avec un rappeur - Alice et Moi\n",
      "12. Fitness - Lizzo\n",
      "13. Bitch Better Have My Money - Rihanna\n",
      "14. 6 Inch (feat. The Weeknd) - Beyoncé\n",
      "15. G.O.M.D. - J. Cole\n",
      "16. Burn It Up - HIGH HØØPS\n",
      "17. Can't Nobody Love You - Solomon Burke\n",
      "18. I Got It - Manus\n",
      "19. SICKO MODE - Skrillex Remix - Travis Scott\n",
      "20. POWER - Kanye West\n"
     ]
    }
   ],
   "source": [
    "import pandas as pd \n",
    "\n",
    "user_data = {}\n",
    "songs = []\n",
    "ids = []\n",
    "count = 0\n",
    "print(username + \"'s Top 20 songs\")\n",
    "print(\"----------------------------------\")\n",
    "for track in results['items']:\n",
    "    count += 1\n",
    "    songs.append(track)\n",
    "    ids.append(track['id'])\n",
    "    print(str(count) + '. ' + track['name'] + ' - ' + track['artists'][0]['name'])\n",
    "    \n",
    "features = sp.audio_features(ids)\n",
    "\n",
    "for item in features:\n",
    "    item.update( {\"user\": username})\n",
    "user = pd.DataFrame(features)\n"
   ]
  },
  {
   "cell_type": "markdown",
   "metadata": {},
   "source": [
    "# Spotify Suggestions\n",
    "Results are different every request even with same seed"
   ]
  },
  {
   "cell_type": "code",
   "execution_count": 16,
   "metadata": {},
   "outputs": [
    {
     "name": "stdout",
     "output_type": "stream",
     "text": [
      "Spotify Suggestions from jojogrin's Top Song Every Single Thing - HOMESHAKE\n",
      "----------------------------------\n",
      "Bones - Crumb\n",
      "Way to be Loved - TOPS\n",
      "Blue Train Lines - Mount Kimbie\n",
      "Seattle Party - Chastity Belt\n",
      "I'm The Man, That Will Find You - Connan Mockasin\n",
      "Dope on a Rope - The Growlers\n",
      "Out Getting Ribs - King Krule\n",
      "Suddenly - Drugdealer\n",
      "Windowpane - Mild High Club\n",
      "23 - Rejjie Snow\n",
      "Lucy - Still Woozy\n",
      "The Way Things Change - Yellow Days\n",
      "Teenage Blue - Dreamgirl\n",
      "Mirage - Toro y Moi\n",
      "Another Weekend - Ariel Pink\n",
      "Friends - levitation room\n",
      "When I Get Home - Post Animal\n",
      "Rare Hearts - The Growlers\n",
      "Hunnybee - Unknown Mortal Orchestra\n",
      "Easy Easy - King Krule\n"
     ]
    }
   ],
   "source": [
    "print('Spotify Suggestions from %s\\'s Top Song %s - %s' % (username, songs[0]['name'], songs[0]['artists'][0]['name']))\n",
    "print(\"----------------------------------\")\n",
    "spot_results = sp.recommendations(seed_tracks=[ids[0]])\n",
    "for track in spot_results['tracks']:\n",
    "    print(track['name'] + ' - ' + track['artists'][0]['name'])"
   ]
  },
  {
   "cell_type": "markdown",
   "metadata": {},
   "source": [
    "# Content-based Suggestions\n",
    "Standard Deviation of danceability, energy, key, loudness, mode, speechiness, acousticness, instrumentalness, liveness, valence and tempo"
   ]
  },
  {
   "cell_type": "code",
   "execution_count": 5,
   "metadata": {},
   "outputs": [
    {
     "name": "stdout",
     "output_type": "stream",
     "text": [
      "Content-based Suggestions\n",
      "----------------------------------\n",
      "Freaking Out - A R I Z O N A\n",
      "Strings - iann dior\n",
      "Truth Hurts - Lizzo\n",
      "All Love - FLETCHER\n",
      "Not Afraid Anymore - Halsey\n",
      "Runtime: 102.78352379798889\n"
     ]
    }
   ],
   "source": [
    "import time\n",
    "t0 = time.time()\n",
    "\n",
    "#user.to_csv(username + \"_top.csv\", index=True)\n",
    "data = pd.read_csv('mock_spot_data.csv')\n",
    "scores = []\n",
    "song_index = []\n",
    "possible = 11\n",
    "norm_prob = []\n",
    "\n",
    "for topindex, toprow in data.iterrows():\n",
    "    score = 0\n",
    "    if not(data.iloc[topindex]['user'] == username):\n",
    "        for index, row in user.iterrows():\n",
    "            if abs(user.iloc[index]['danceability'] - data.iloc[topindex]['danceability']) <= user['danceability'].std():\n",
    "                score+=1\n",
    "            if abs(user.iloc[index]['energy'] - data.iloc[topindex]['energy']) <= user['energy'].std():\n",
    "                score+=1\n",
    "            if abs(user.iloc[index]['key'] - data.iloc[topindex]['key']) <= user['key'].std():\n",
    "                score+=1\n",
    "            if abs(user.iloc[index]['loudness'] - data.iloc[topindex]['loudness']) <= user['loudness'].std():\n",
    "                score+=1\n",
    "            if abs(user.iloc[index]['mode'] - data.iloc[topindex]['mode']) <= user['mode'].std():\n",
    "                score+=1\n",
    "            if abs(user.iloc[index]['speechiness'] - data.iloc[topindex]['speechiness']) <= user['speechiness'].std():\n",
    "                score+=1\n",
    "            if abs(user.iloc[index]['acousticness'] - data.iloc[topindex]['acousticness']) <= user['acousticness'].std():\n",
    "                score+=1\n",
    "            if abs(user.iloc[index]['instrumentalness'] - data.iloc[topindex]['instrumentalness']) <= user['instrumentalness'].std():\n",
    "                score+=1\n",
    "            if abs(user.iloc[index]['liveness'] - data.iloc[topindex]['liveness']) <= user['liveness'].std():\n",
    "                score+=1\n",
    "            if abs(user.iloc[index]['valence'] - data.iloc[topindex]['valence']) <= user['valence'].std():\n",
    "                score+=1\n",
    "            if abs(user.iloc[index]['tempo'] - data.iloc[topindex]['tempo']) <= user['tempo'].std():\n",
    "                 score+=1\n",
    "        scores.append(score/11)\n",
    "        song_index.append(topindex)\n",
    "    #print(\"Score: \", score, \" out of \", possible)\n",
    "    \n",
    "#normalize the scores and get prob \n",
    "min_x = min(scores)\n",
    "max_x = max(scores)\n",
    "\n",
    "suggested_songs = []\n",
    "\n",
    "def sortSecond(val): \n",
    "    return val[1]\n",
    "\n",
    "for i in range(len(scores)):\n",
    "    x = (scores[i] - min_x) / (max_x - min_x)\n",
    "    x = min((x),1)\n",
    "    norm_prob.append(x)\n",
    "    index = song_index[i]\n",
    "    #print('%s - %s : Probability - %.2f' % (sp.track(data.iloc[index]['uri'])['name'], sp.track(data.iloc[index]['uri'])['artists'][0]['name'], norm_prob[i]))\n",
    "    if x >= 0.70: # this threshold can be changed!\n",
    "        suggested_songs.append((index, x))\n",
    "        \n",
    "suggested_songs.sort(key = sortSecond)\n",
    "top_songs_n = len(suggested_songs) - 6\n",
    "if 5 > len(suggested_songs):\n",
    "    top_songs_n = 0\n",
    "    \n",
    "print('Content-based Suggestions')\n",
    "print(\"----------------------------------\")\n",
    "for n in range(len(suggested_songs)-1, top_songs_n, -1):\n",
    "    song_i = suggested_songs[n][0]\n",
    "    prob = suggested_songs[n][1]\n",
    "    print(sp.track(data.iloc[song_i]['uri'])['name'], '-', sp.track(data.iloc[song_i]['uri'])['artists'][0]['name'])\n",
    "total = time.time() - t0\n",
    "print(\"Runtime:\", total)"
   ]
  },
  {
   "cell_type": "markdown",
   "metadata": {},
   "source": [
    "# Collaborative Filter"
   ]
  },
  {
   "cell_type": "code",
   "execution_count": 29,
   "metadata": {},
   "outputs": [],
   "source": []
  }
 ],
 "metadata": {
  "kernelspec": {
   "display_name": "Python 3",
   "language": "python",
   "name": "python3"
  },
  "language_info": {
   "codemirror_mode": {
    "name": "ipython",
    "version": 3
   },
   "file_extension": ".py",
   "mimetype": "text/x-python",
   "name": "python",
   "nbconvert_exporter": "python",
   "pygments_lexer": "ipython3",
   "version": "3.7.3"
  }
 },
 "nbformat": 4,
 "nbformat_minor": 2
}
