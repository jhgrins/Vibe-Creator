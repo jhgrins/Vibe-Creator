{
 "cells": [
  {
   "cell_type": "markdown",
   "metadata": {},
   "source": [
    "# Abel & Josette's AI Term Project\n",
    "This is our workspace for collaborative filtering and content based music generation.\n",
    "For spotify API, reference this page for [setup](https://medium.com/@benfenison/using-spotify-web-api-w-python-6b31a328b26e) and this page for [documentation](https://github.com/plamere/spotipy). Data for the content base filtering was collected [here](https://grinslade.pythonanywhere.com).\n",
    "\n",
    "## The Problem\n",
    "Our project was focused on the pratical everyday issue that music listeners struggle to find new songs that they would *actually* listen to. There are many manys to solve this problem, but the most common way that is used in this industry is collaborative filtering. Collaboraive filtering has been done by Spotify, Netflix and many others for recommendations to their users. Collaborative filtering is an algorithm that dictates what users are similar and then suggest content that the similar users enjoy. Another method commonly used in pratice is Content-based filtering. This algorithm simply decides if a user's liked content is similar to other content based off its metadata or attributes then suggests this content. \n",
    "\n",
    "## Our Approach\n",
    "Our approach to this problem similar but with our own implementation. More specifically, we would create two ways of generating suggested songs: Content-based filtering and Collaborative filtering. We would implement these algorithms in our own way and compare it to established generations like Spotify's. We decided we would look at user data to generate 5 songs that the listener would truly enjoy.\n",
    "\n",
    "## Results\n",
    "\n",
    "## If we had more time\n",
    "\n",
    "If we had more time for this project, we would have perfected our algorithms and get access from spotify to use a bigger data set instead of ."
   ]
  },
  {
   "cell_type": "code",
   "execution_count": 13,
   "metadata": {},
   "outputs": [
    {
     "name": "stdout",
     "output_type": "stream",
     "text": [
      "Enter username or none: none\n"
     ]
    }
   ],
   "source": [
    "import sys\n",
    "import spotipy\n",
    "import spotipy.util as util\n",
    "\n",
    "sc = 'user-top-read'\n",
    "\n",
    "username = input(\"Enter username or none: \")\n",
    "results = {}\n",
    "if username == \"none\":\n",
    "    username = \"jojogrin\"\n",
    "token = util.prompt_for_user_token(username=username,scope=sc,client_id='33ebd71536d94caebcf54970eaf4191a', client_secret='87c219c0663d414388f96a6b7da7ee11', redirect_uri='https://grinslade.pythonanywhere.com/api_callback')\n",
    "results = sp.current_user_top_tracks()"
   ]
  },
  {
   "cell_type": "code",
   "execution_count": 14,
   "metadata": {},
   "outputs": [],
   "source": [
    "sp = spotipy.Spotify(auth=token)"
   ]
  },
  {
   "cell_type": "markdown",
   "metadata": {},
   "source": [
    "# User's Top Tracks"
   ]
  },
  {
   "cell_type": "code",
   "execution_count": 15,
   "metadata": {},
   "outputs": [
    {
     "name": "stdout",
     "output_type": "stream",
     "text": [
      "jojogrin's Top 20 songs\n",
      "----------------------------------\n",
      "1. Every Single Thing - HOMESHAKE\n",
      "2. Look What You Made Me Do - Taylor Swift\n",
      "3. thank u, next - Ariana Grande\n",
      "4. How Long - Charlie Puth\n",
      "5. God is a woman - Ariana Grande\n",
      "6. Bonkers - Dizzee Rascal\n",
      "7. Confident - Demi Lovato\n",
      "8. Truth Hurts - Lizzo\n",
      "9. 7 rings - Ariana Grande\n",
      "10. Can't Fight The Moonlight - LeAnn Rimes\n",
      "11. J'veux sortir avec un rappeur - Alice et Moi\n",
      "12. Fitness - Lizzo\n",
      "13. Bitch Better Have My Money - Rihanna\n",
      "14. 6 Inch (feat. The Weeknd) - Beyoncé\n",
      "15. G.O.M.D. - J. Cole\n",
      "16. Burn It Up - HIGH HØØPS\n",
      "17. Can't Nobody Love You - Solomon Burke\n",
      "18. I Got It - Manus\n",
      "19. SICKO MODE - Skrillex Remix - Travis Scott\n",
      "20. POWER - Kanye West\n"
     ]
    }
   ],
   "source": [
    "import pandas as pd \n",
    "\n",
    "user_data = {}\n",
    "songs = []\n",
    "ids = []\n",
    "count = 0\n",
    "print(username + \"'s Top 20 songs\")\n",
    "print(\"----------------------------------\")\n",
    "for track in results['items']:\n",
    "    count += 1\n",
    "    songs.append(track)\n",
    "    ids.append(track['id'])\n",
    "    print(str(count) + '. ' + track['name'] + ' - ' + track['artists'][0]['name'])\n",
    "    \n",
    "features = sp.audio_features(ids)\n",
    "\n",
    "for item in features:\n",
    "    item.update( {\"user\": username})\n",
    "user = pd.DataFrame(features)\n"
   ]
  },
  {
   "cell_type": "markdown",
   "metadata": {},
   "source": [
    "# Spotify Suggestions\n",
    "Results are different every request even with same seed"
   ]
  },
  {
   "cell_type": "code",
   "execution_count": 16,
   "metadata": {},
   "outputs": [
    {
     "name": "stdout",
     "output_type": "stream",
     "text": [
      "Spotify Suggestions from jojogrin's Top Song Every Single Thing - HOMESHAKE\n",
      "----------------------------------\n",
      "Bones - Crumb\n",
      "Way to be Loved - TOPS\n",
      "Blue Train Lines - Mount Kimbie\n",
      "Seattle Party - Chastity Belt\n",
      "I'm The Man, That Will Find You - Connan Mockasin\n",
      "Dope on a Rope - The Growlers\n",
      "Out Getting Ribs - King Krule\n",
      "Suddenly - Drugdealer\n",
      "Windowpane - Mild High Club\n",
      "23 - Rejjie Snow\n",
      "Lucy - Still Woozy\n",
      "The Way Things Change - Yellow Days\n",
      "Teenage Blue - Dreamgirl\n",
      "Mirage - Toro y Moi\n",
      "Another Weekend - Ariel Pink\n",
      "Friends - levitation room\n",
      "When I Get Home - Post Animal\n",
      "Rare Hearts - The Growlers\n",
      "Hunnybee - Unknown Mortal Orchestra\n",
      "Easy Easy - King Krule\n"
     ]
    }
   ],
   "source": [
    "print('Spotify Suggestions from %s\\'s Top Song %s - %s' % (username, songs[0]['name'], songs[0]['artists'][0]['name']))\n",
    "print(\"----------------------------------\")\n",
    "spot_results = sp.recommendations(seed_tracks=[ids[0]])\n",
    "for track in spot_results['tracks']:\n",
    "    print(track['name'] + ' - ' + track['artists'][0]['name'])"
   ]
  },
  {
   "cell_type": "markdown",
   "metadata": {},
   "source": [
    "# Content-based Suggestions\n",
    "Standard Deviation of danceability, energy, key, loudness, mode, speechiness, acousticness, instrumentalness, liveness, valence and tempo"
   ]
  },
  {
   "cell_type": "code",
   "execution_count": 5,
   "metadata": {},
   "outputs": [
    {
     "name": "stdout",
     "output_type": "stream",
     "text": [
      "Content-based Suggestions\n",
      "----------------------------------\n",
      "Freaking Out - A R I Z O N A\n",
      "Strings - iann dior\n",
      "Truth Hurts - Lizzo\n",
      "All Love - FLETCHER\n",
      "Not Afraid Anymore - Halsey\n",
      "Runtime: 102.78352379798889\n"
     ]
    }
   ],
   "source": [
    "import time\n",
    "t0 = time.time()\n",
    "\n",
    "#user.to_csv(username + \"_top.csv\", index=True)\n",
    "data = pd.read_csv('mock_spot_data.csv')\n",
    "scores = []\n",
    "song_index = []\n",
    "possible = 11\n",
    "norm_prob = []\n",
    "\n",
    "for topindex, toprow in data.iterrows():\n",
    "    score = 0\n",
    "    if not(data.iloc[topindex]['user'] == username):\n",
    "        for index, row in user.iterrows():\n",
    "            if abs(user.iloc[index]['danceability'] - data.iloc[topindex]['danceability']) <= user['danceability'].std():\n",
    "                score+=1\n",
    "            if abs(user.iloc[index]['energy'] - data.iloc[topindex]['energy']) <= user['energy'].std():\n",
    "                score+=1\n",
    "            if abs(user.iloc[index]['key'] - data.iloc[topindex]['key']) <= user['key'].std():\n",
    "                score+=1\n",
    "            if abs(user.iloc[index]['loudness'] - data.iloc[topindex]['loudness']) <= user['loudness'].std():\n",
    "                score+=1\n",
    "            if abs(user.iloc[index]['mode'] - data.iloc[topindex]['mode']) <= user['mode'].std():\n",
    "                score+=1\n",
    "            if abs(user.iloc[index]['speechiness'] - data.iloc[topindex]['speechiness']) <= user['speechiness'].std():\n",
    "                score+=1\n",
    "            if abs(user.iloc[index]['acousticness'] - data.iloc[topindex]['acousticness']) <= user['acousticness'].std():\n",
    "                score+=1\n",
    "            if abs(user.iloc[index]['instrumentalness'] - data.iloc[topindex]['instrumentalness']) <= user['instrumentalness'].std():\n",
    "                score+=1\n",
    "            if abs(user.iloc[index]['liveness'] - data.iloc[topindex]['liveness']) <= user['liveness'].std():\n",
    "                score+=1\n",
    "            if abs(user.iloc[index]['valence'] - data.iloc[topindex]['valence']) <= user['valence'].std():\n",
    "                score+=1\n",
    "            if abs(user.iloc[index]['tempo'] - data.iloc[topindex]['tempo']) <= user['tempo'].std():\n",
    "                 score+=1\n",
    "        scores.append(score/11)\n",
    "        song_index.append(topindex)\n",
    "    #print(\"Score: \", score, \" out of \", possible)\n",
    "    \n",
    "#normalize the scores and get prob \n",
    "min_x = min(scores)\n",
    "max_x = max(scores)\n",
    "\n",
    "suggested_songs = []\n",
    "\n",
    "def sortSecond(val): \n",
    "    return val[1]\n",
    "\n",
    "for i in range(len(scores)):\n",
    "    x = (scores[i] - min_x) / (max_x - min_x)\n",
    "    x = min((x),1)\n",
    "    norm_prob.append(x)\n",
    "    index = song_index[i]\n",
    "    #print('%s - %s : Probability - %.2f' % (sp.track(data.iloc[index]['uri'])['name'], sp.track(data.iloc[index]['uri'])['artists'][0]['name'], norm_prob[i]))\n",
    "    if x >= 0.70: # this threshold can be changed!\n",
    "        suggested_songs.append((index, x))\n",
    "        \n",
    "suggested_songs.sort(key = sortSecond)\n",
    "top_songs_n = len(suggested_songs) - 6\n",
    "if 5 > len(suggested_songs):\n",
    "    top_songs_n = 0\n",
    "    \n",
    "print('Content-based Suggestions')\n",
    "print(\"----------------------------------\")\n",
    "for n in range(len(suggested_songs)-1, top_songs_n, -1):\n",
    "    song_i = suggested_songs[n][0]\n",
    "    prob = suggested_songs[n][1]\n",
    "    print(sp.track(data.iloc[song_i]['uri'])['name'], '-', sp.track(data.iloc[song_i]['uri'])['artists'][0]['name'])\n",
    "total = time.time() - t0\n",
    "print(\"Runtime:\", total)"
   ]
  },
  {
   "cell_type": "markdown",
   "metadata": {},
   "source": [
    "# Collaborative Filter"
   ]
  },
  {
   "cell_type": "code",
   "execution_count": 29,
   "metadata": {},
   "outputs": [],
   "source": []
  }
 ],
 "metadata": {
  "kernelspec": {
   "display_name": "Python 3",
   "language": "python",
   "name": "python3"
  },
  "language_info": {
   "codemirror_mode": {
    "name": "ipython",
    "version": 3
   },
   "file_extension": ".py",
   "mimetype": "text/x-python",
   "name": "python",
   "nbconvert_exporter": "python",
   "pygments_lexer": "ipython3",
   "version": "3.7.3"
  }
 },
 "nbformat": 4,
 "nbformat_minor": 2
}
